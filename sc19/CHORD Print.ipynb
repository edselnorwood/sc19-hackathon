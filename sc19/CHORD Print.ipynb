{
 "cells": [
  {
   "cell_type": "code",
   "execution_count": 28,
   "metadata": {},
   "outputs": [
    {
     "name": "stdout",
     "output_type": "stream",
     "text": [
      "We're choosing a date between September 27, 2019 at 12:00 AM and October 3, 2019 at 12:00 AM.\n",
      "Choose a starting month: 09\n",
      "Choose a starting date: 27\n",
      "Choose a starting hour between 00 and 23: 00\n",
      "Choose a starting minute between 00 and 59: 00\n",
      "Choose a starting second between 00 and 59: 00\n",
      "Choose an ending month: 09\n",
      "Choose an ending date: 28\n",
      "Choose an ending hour between 00 and 23: 00\n",
      "Choose an ending minute between 00 and 59: 00\n",
      "Choose an ending second between 00 and 59: 00\n"
     ]
    },
    {
     "data": {
      "text/html": [
       "<div>\n",
       "<style>\n",
       "    .dataframe thead tr:only-child th {\n",
       "        text-align: right;\n",
       "    }\n",
       "\n",
       "    .dataframe thead th {\n",
       "        text-align: left;\n",
       "    }\n",
       "\n",
       "    .dataframe tbody tr th {\n",
       "        vertical-align: top;\n",
       "    }\n",
       "</style>\n",
       "<table border=\"1\" class=\"dataframe\">\n",
       "  <thead>\n",
       "    <tr style=\"text-align: right;\">\n",
       "      <th></th>\n",
       "      <th>Time</th>\n",
       "      <th>wind_rpm</th>\n",
       "      <th>wind_hz</th>\n",
       "      <th>wind_mph</th>\n",
       "      <th>rain_gauge</th>\n",
       "      <th>humidity</th>\n",
       "      <th>temp</th>\n",
       "      <th>wind_direction</th>\n",
       "    </tr>\n",
       "  </thead>\n",
       "  <tbody>\n",
       "    <tr>\n",
       "      <th>14</th>\n",
       "      <td>2019-09-27T00:00:04Z</td>\n",
       "      <td>60</td>\n",
       "      <td>1</td>\n",
       "      <td>0.981249988</td>\n",
       "      <td>0</td>\n",
       "      <td>54.48202515</td>\n",
       "      <td>32.79457855</td>\n",
       "      <td>3546</td>\n",
       "    </tr>\n",
       "    <tr>\n",
       "      <th>15</th>\n",
       "      <td>2019-09-27T00:00:15Z</td>\n",
       "      <td>60</td>\n",
       "      <td>1</td>\n",
       "      <td>0.981249988</td>\n",
       "      <td>0</td>\n",
       "      <td>54.32943726</td>\n",
       "      <td>32.76239777</td>\n",
       "      <td>3139</td>\n",
       "    </tr>\n",
       "    <tr>\n",
       "      <th>16</th>\n",
       "      <td>2019-09-27T00:00:26Z</td>\n",
       "      <td>120</td>\n",
       "      <td>2</td>\n",
       "      <td>1.962499976</td>\n",
       "      <td>0</td>\n",
       "      <td>54.27603149</td>\n",
       "      <td>32.75167847</td>\n",
       "      <td>3551</td>\n",
       "    </tr>\n",
       "    <tr>\n",
       "      <th>17</th>\n",
       "      <td>2019-09-27T00:00:37Z</td>\n",
       "      <td>60</td>\n",
       "      <td>1</td>\n",
       "      <td>0.981249988</td>\n",
       "      <td>0</td>\n",
       "      <td>54.23788452</td>\n",
       "      <td>32.75167847</td>\n",
       "      <td>3302</td>\n",
       "    </tr>\n",
       "    <tr>\n",
       "      <th>18</th>\n",
       "      <td>2019-09-27T00:00:48Z</td>\n",
       "      <td>90</td>\n",
       "      <td>1</td>\n",
       "      <td>1.471874952</td>\n",
       "      <td>0</td>\n",
       "      <td>54.23788452</td>\n",
       "      <td>32.76239777</td>\n",
       "      <td>3549</td>\n",
       "    </tr>\n",
       "  </tbody>\n",
       "</table>\n",
       "</div>"
      ],
      "text/plain": [
       "                    Time wind_rpm wind_hz     wind_mph rain_gauge  \\\n",
       "14  2019-09-27T00:00:04Z       60       1  0.981249988          0   \n",
       "15  2019-09-27T00:00:15Z       60       1  0.981249988          0   \n",
       "16  2019-09-27T00:00:26Z      120       2  1.962499976          0   \n",
       "17  2019-09-27T00:00:37Z       60       1  0.981249988          0   \n",
       "18  2019-09-27T00:00:48Z       90       1  1.471874952          0   \n",
       "\n",
       "       humidity         temp wind_direction  \n",
       "14  54.48202515  32.79457855           3546  \n",
       "15  54.32943726  32.76239777           3139  \n",
       "16  54.27603149  32.75167847           3551  \n",
       "17  54.23788452  32.75167847           3302  \n",
       "18  54.23788452  32.76239777           3549  "
      ]
     },
     "execution_count": 28,
     "metadata": {},
     "output_type": "execute_result"
    }
   ],
   "source": [
    "import matplotlib.pyplot as plt\n",
    "import pandas as pd\n",
    "import chord_get\n",
    "\n",
    "print('We\\'re choosing a date between September 27, 2019 at 12:00 AM and October 3, 2019 at 12:00 AM.')\n",
    "start_month = input('Choose a starting month: ')\n",
    "start_date = input('Choose a starting date: ')\n",
    "start_hour = input('Choose a starting hour between 00 and 23: ')\n",
    "start_min = input('Choose a starting minute between 00 and 59: ')\n",
    "start_sec = input('Choose a starting second between 00 and 59: ')\n",
    "\n",
    "end_month = input('Choose an ending month: ')\n",
    "end_date = input('Choose an ending date: ')\n",
    "end_hour = input('Choose an ending hour between 00 and 23: ')\n",
    "end_min = input('Choose an ending minute between 00 and 59: ')\n",
    "end_sec = input('Choose an ending second between 00 and 59: ')\n",
    "\n",
    "url = \"http://chords.tacc.cloud/instruments/16.csv?start=2019-\" + start_month + \"-\" + start_date + \"T\" + start_hour + \":\" + start_min + \":\" + start_sec + \"&end=2019-\" + end_month + \"-\" + end_date + \"T\" + end_hour + \":\" + end_min + \":\" + end_sec\n",
    "template = chord_get.get_data(url, \"datatree_test5.csv\")\n",
    "\n",
    "# print(template)\n",
    "template.head()"
   ]
  },
  {
   "cell_type": "code",
   "execution_count": 44,
   "metadata": {},
   "outputs": [
    {
     "data": {
      "image/png": "[encoded data removed]",
      "text/plain": [
       "<matplotlib.figure.Figure at 0x10f8a8710>"
      ]
     },
     "metadata": {},
     "output_type": "display_data"
    }
   ],
   "source": [
    "template['humidity'] = pd.to_numeric(template['humidity'])\n",
    "template['temp'] = pd.to_numeric(template['temp'])\n",
    "plt.xticks(range(int(template['humidity'].min()), int(template['humidity'].max()), 10))\n",
    "plt.yticks(range(int(template['temp'].min()), int(template['temp'].max()), 2))\n",
    "plt.scatter(template.humidity, template.temp)\n",
    "plt.show()"
   ]
  },
  {
   "cell_type": "code",
   "execution_count": null,
   "metadata": {
    "collapsed": true
   },
   "outputs": [],
   "source": [
    "plt.scatter(template.humidity, template.temp,.05)"
   ]
  }
 ],
 "metadata": {
  "kernelspec": {
   "display_name": "Python 3",
   "language": "python",
   "name": "python3"
  },
  "language_info": {
   "codemirror_mode": {
    "name": "ipython",
    "version": 3
   },
   "file_extension": ".py",
   "mimetype": "text/x-python",
   "name": "python",
   "nbconvert_exporter": "python",
   "pygments_lexer": "ipython3",
   "version": "3.6.3"
  }
 },
 "nbformat": 4,
 "nbformat_minor": 2
}
